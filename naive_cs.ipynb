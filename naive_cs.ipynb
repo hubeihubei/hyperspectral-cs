{
 "cells": [
  {
   "cell_type": "markdown",
   "metadata": {},
   "source": [
    "### Reconstruction using a naive DCT compressive sensing approach"
   ]
  },
  {
   "cell_type": "code",
   "execution_count": 8,
   "metadata": {},
   "outputs": [],
   "source": [
    "# %load simulate_cassi.py\n",
    "# Simulate CASSI (Spatial-spectral or SS-CASSI, to be specific)\n",
    "import numpy as np\n",
    "import torch\n",
    "from torch.autograd import Variable\n",
    "from scipy.ndimage.interpolation import shift\n",
    "import matplotlib.pyplot as plt\n",
    "\n",
    "def generate_mask(inchannels, height, width):\n",
    "    # Generate random binary mask\n",
    "    mask = np.random.choice(2, size=(height, width+inchannels), p=(0.5, 0.5))\n",
    "#     plt.imshow(mask)\n",
    "\n",
    "    # Shear mask by different amounts for each channel\n",
    "    middlechannel = int((inchannels - 1)/2)\n",
    "    shifts = [ shift for shift in range(-middlechannel, middlechannel+1) ]\n",
    "\n",
    "    # Apply mask to each channel (element-wise multiplication)\n",
    "    maskblock = np.zeros((inchannels, height, width+inchannels), dtype=np.float32)\n",
    "    for i, shift_val in enumerate(shifts):\n",
    "    #     print(shift_val)\n",
    "        # Shift mask along horizontal axis only\n",
    "        # in (C, H, W) order (for pytorch later)\n",
    "        maskblock[i,:,:] = shift(mask, (0, shift_val), mode='constant')\n",
    "    middle = (width+inchannels+1)/2\n",
    "    # print(middle)\n",
    "    # print(range(int(middle-width/2),int(middle+width/2)))\n",
    "    maskblock = maskblock[:, :, int(middle-width/2):int(middle+width/2)]\n",
    "    # print(maskblocksquare.shape)\n",
    "    # plt.imshow(maskblocksquare[25,:,:])\n",
    "    maskblock = torch.Tensor(maskblock)\n",
    "    maskblock = Variable(maskblock, requires_grad=False)\n",
    "    maskblock = maskblock.unsqueeze(0) # Make 4d tensor\n",
    "    # print(maskblock.shape)\n",
    "    return maskblock\n",
    "    \n",
    "# Define image formation model\n",
    "def image_formation(input_, maskblock):\n",
    "    \"\"\"Given an (1, inchannels, height, width) data block input_ and\n",
    "    a torch tensor mask, compute the image that the camera sensor should see.\"\"\"\n",
    "    # Multiply elementwise by mask\n",
    "#     print(type(maskblock))\n",
    "#     print(type(input_))\n",
    "#     print(maskblock.shape)\n",
    "#     print(input_.shape)\n",
    "    x = maskblock*input_\n",
    "#     print(x.shape)\n",
    "    # Sum along wavelength dimension to get a 2D image (1, height, width)\n",
    "    return torch.sum(x, dim=1).unsqueeze(0) #Unsqueeze to make (1, 1, height, width)"
   ]
  },
  {
   "cell_type": "code",
   "execution_count": 10,
   "metadata": {},
   "outputs": [
    {
     "data": {
      "image/png": "[encoded data removed]",
      "text/plain": [
       "<matplotlib.figure.Figure at 0x7f90a0ff6cc0>"
      ]
     },
     "metadata": {},
     "output_type": "display_data"
    }
   ],
   "source": [
    "maskblock = generate_mask(29, 96, 96)"
   ]
  },
  {
   "cell_type": "code",
   "execution_count": 14,
   "metadata": {},
   "outputs": [
    {
     "data": {
      "text/plain": [
       "True"
      ]
     },
     "execution_count": 14,
     "metadata": {},
     "output_type": "execute_result"
    }
   ],
   "source": []
  },
  {
   "cell_type": "code",
   "execution_count": null,
   "metadata": {},
   "outputs": [],
   "source": []
  }
 ],
 "metadata": {
  "kernelspec": {
   "display_name": "Python 3",
   "language": "python",
   "name": "python3"
  },
  "language_info": {
   "codemirror_mode": {
    "name": "ipython",
    "version": 3
   },
   "file_extension": ".py",
   "mimetype": "text/x-python",
   "name": "python",
   "nbconvert_exporter": "python",
   "pygments_lexer": "ipython3",
   "version": "3.6.4"
  }
 },
 "nbformat": 4,
 "nbformat_minor": 2
}
